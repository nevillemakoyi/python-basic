{
 "cells": [
  {
   "cell_type": "markdown",
   "id": "ccd43149",
   "metadata": {},
   "source": [
    "### Function in Python"
   ]
  },
  {
   "cell_type": "code",
   "execution_count": 24,
   "id": "edee404b",
   "metadata": {},
   "outputs": [],
   "source": [
    "def hello_func (name, age):\n",
    "    \"\"\"\n",
    "    This function takes a name and an age as input and returns a greeting message.\n",
    "    \n",
    "    :param name: str - The name of the person\n",
    "    :param age: int - The age of the person\n",
    "    :return: str - A greeting message\n",
    "    \"\"\"\n",
    "    message = f\"Hello {name}, you are {age} years old!\" \n",
    "\n",
    "    return message"
   ]
  },
  {
   "cell_type": "code",
   "execution_count": 26,
   "id": "45fac47c",
   "metadata": {},
   "outputs": [
    {
     "data": {
      "text/plain": [
       "'Hello Jambo, you are 25 years old!'"
      ]
     },
     "execution_count": 26,
     "metadata": {},
     "output_type": "execute_result"
    }
   ],
   "source": [
    "hello_func('Jambo', 25)"
   ]
  },
  {
   "cell_type": "code",
   "execution_count": 28,
   "id": "109c9c8f",
   "metadata": {},
   "outputs": [
    {
     "name": "stdout",
     "output_type": "stream",
     "text": [
      "Hello Jambo, you are 30 years old!\n"
     ]
    }
   ],
   "source": [
    "result = hello_func('Jambo', 30)\n",
    "print(result)   "
   ]
  },
  {
   "cell_type": "code",
   "execution_count": 29,
   "id": "da84a660",
   "metadata": {},
   "outputs": [
    {
     "data": {
      "text/plain": [
       "'HELLO JAMBO, YOU ARE 30 YEARS OLD!'"
      ]
     },
     "execution_count": 29,
     "metadata": {},
     "output_type": "execute_result"
    }
   ],
   "source": [
    "result.upper()"
   ]
  },
  {
   "cell_type": "code",
   "execution_count": 30,
   "id": "530adc8c",
   "metadata": {},
   "outputs": [],
   "source": [
    "def student_info(*courses, **bio_info):\n",
    "    print(courses)\n",
    "    print(bio_info)"
   ]
  },
  {
   "cell_type": "code",
   "execution_count": 34,
   "id": "715d851e",
   "metadata": {},
   "outputs": [],
   "source": [
    "c = ['Python', 'Java', 'C++']\n",
    "bio = {'name': 'John', 'age': 25, 'city': 'New York'}"
   ]
  },
  {
   "cell_type": "code",
   "execution_count": 38,
   "id": "18f83ffb",
   "metadata": {},
   "outputs": [
    {
     "name": "stdout",
     "output_type": "stream",
     "text": [
      "('Python', 'Java', 'C++')\n",
      "{'name': 'John', 'age': 25, 'city': 'New York'}\n"
     ]
    }
   ],
   "source": [
    "student_info(*c, **bio)"
   ]
  },
  {
   "cell_type": "code",
   "execution_count": 44,
   "id": "3857d327",
   "metadata": {},
   "outputs": [],
   "source": [
    "sample_url = 'http://coreyms.com'\n",
    "sample_url = sample_url.lstrip('http://')\n",
    "sample_url = sample_url.rstrip('.com')"
   ]
  },
  {
   "cell_type": "code",
   "execution_count": 45,
   "id": "2d05f104",
   "metadata": {},
   "outputs": [
    {
     "data": {
      "text/plain": [
       "'coreyms'"
      ]
     },
     "execution_count": 45,
     "metadata": {},
     "output_type": "execute_result"
    }
   ],
   "source": [
    "sample_url"
   ]
  },
  {
   "cell_type": "code",
   "execution_count": 47,
   "id": "e4d88503",
   "metadata": {},
   "outputs": [
    {
     "name": "stdout",
     "output_type": "stream",
     "text": [
      "Even numbers: [2, 4, 6, 8, 10, 12, 14, 16, 18, 20, 22, 24, 26, 28, 30, 32, 34, 36, 38, 40, 42, 44, 46, 48, 50, 52, 54, 56, 58, 60, 62, 64, 66, 68, 70, 72, 74, 76, 78, 80, 82, 84, 86, 88, 90, 92, 94, 96, 98]\n",
      "Odd numbers: [1, 3, 5, 7, 9, 11, 13, 15, 17, 19, 21, 23, 25, 27, 29, 31, 33, 35, 37, 39, 41, 43, 45, 47, 49, 51, 53, 55, 57, 59, 61, 63, 65, 67, 69, 71, 73, 75, 77, 79, 81, 83, 85, 87, 89, 91, 93, 95, 97, 99]\n"
     ]
    }
   ],
   "source": [
    "numbers = range(1, 100)\n",
    "ev_numbers = []\n",
    "odd_numbers = []\n",
    "\n",
    "for number in numbers:\n",
    "    if number % 2 == 0:\n",
    "        ev_numbers.append(number)\n",
    "    else:\n",
    "        odd_numbers.append(number)\n",
    "print(f\"Even numbers: {ev_numbers}\")\n",
    "print(f\"Odd numbers: {odd_numbers}\")"
   ]
  },
  {
   "cell_type": "code",
   "execution_count": null,
   "id": "057f774c",
   "metadata": {},
   "outputs": [],
   "source": []
  }
 ],
 "metadata": {
  "kernelspec": {
   "display_name": "base",
   "language": "python",
   "name": "python3"
  },
  "language_info": {
   "codemirror_mode": {
    "name": "ipython",
    "version": 3
   },
   "file_extension": ".py",
   "mimetype": "text/x-python",
   "name": "python",
   "nbconvert_exporter": "python",
   "pygments_lexer": "ipython3",
   "version": "3.12.7"
  }
 },
 "nbformat": 4,
 "nbformat_minor": 5
}
