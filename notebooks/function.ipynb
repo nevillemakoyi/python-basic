{
 "cells": [
  {
   "cell_type": "markdown",
   "id": "ccd43149",
   "metadata": {},
   "source": [
    "### Function in Python"
   ]
  },
  {
   "cell_type": "code",
   "execution_count": 24,
   "id": "edee404b",
   "metadata": {},
   "outputs": [],
   "source": [
    "def hello_func (name, age):\n",
    "    \"\"\"\n",
    "    This function takes a name and an age as input and returns a greeting message.\n",
    "    \n",
    "    :param name: str - The name of the person\n",
    "    :param age: int - The age of the person\n",
    "    :return: str - A greeting message\n",
    "    \"\"\"\n",
    "    message = f\"Hello {name}, you are {age} years old!\" \n",
    "\n",
    "    return message"
   ]
  },
  {
   "cell_type": "code",
   "execution_count": 26,
   "id": "45fac47c",
   "metadata": {},
   "outputs": [
    {
     "data": {
      "text/plain": [
       "'Hello Jambo, you are 25 years old!'"
      ]
     },
     "execution_count": 26,
     "metadata": {},
     "output_type": "execute_result"
    }
   ],
   "source": [
    "hello_func('Jambo', 25)"
   ]
  },
  {
   "cell_type": "code",
   "execution_count": 28,
   "id": "109c9c8f",
   "metadata": {},
   "outputs": [
    {
     "name": "stdout",
     "output_type": "stream",
     "text": [
      "Hello Jambo, you are 30 years old!\n"
     ]
    }
   ],
   "source": [
    "result = hello_func('Jambo', 30)\n",
    "print(result)   "
   ]
  },
  {
   "cell_type": "code",
   "execution_count": 29,
   "id": "da84a660",
   "metadata": {},
   "outputs": [
    {
     "data": {
      "text/plain": [
       "'HELLO JAMBO, YOU ARE 30 YEARS OLD!'"
      ]
     },
     "execution_count": 29,
     "metadata": {},
     "output_type": "execute_result"
    }
   ],
   "source": [
    "result.upper()"
   ]
  },
  {
   "cell_type": "code",
   "execution_count": null,
   "id": "530adc8c",
   "metadata": {},
   "outputs": [],
   "source": []
  }
 ],
 "metadata": {
  "kernelspec": {
   "display_name": "base",
   "language": "python",
   "name": "python3"
  },
  "language_info": {
   "codemirror_mode": {
    "name": "ipython",
    "version": 3
   },
   "file_extension": ".py",
   "mimetype": "text/x-python",
   "name": "python",
   "nbconvert_exporter": "python",
   "pygments_lexer": "ipython3",
   "version": "3.12.7"
  }
 },
 "nbformat": 4,
 "nbformat_minor": 5
}
