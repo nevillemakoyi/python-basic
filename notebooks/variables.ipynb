{
 "cells": [
  {
   "cell_type": "markdown",
   "id": "4034ecfc",
   "metadata": {},
   "source": [
    "### Introduction to variables in python"
   ]
  },
  {
   "cell_type": "code",
   "execution_count": 1,
   "id": "7b63dd2d",
   "metadata": {},
   "outputs": [],
   "source": [
    "my_name = 'Neville Mak'\n",
    "my_age = 64\n",
    "my_message = 'Hello Word'"
   ]
  },
  {
   "cell_type": "code",
   "execution_count": 2,
   "id": "4037b6c7",
   "metadata": {},
   "outputs": [
    {
     "name": "stdout",
     "output_type": "stream",
     "text": [
      "Hello, my name is Neville Mak, and I am 64 years old.\n",
      "10\n",
      "Nev\n"
     ]
    }
   ],
   "source": [
    "print(f'Hello, my name is {my_name}, and I am {my_age} years old.')\n",
    "print(len(my_message))\n",
    "print(my_name[0:3])"
   ]
  },
  {
   "cell_type": "code",
   "execution_count": 5,
   "id": "a929850d",
   "metadata": {},
   "outputs": [
    {
     "name": "stdout",
     "output_type": "stream",
     "text": [
      "NEVILLE MAK\n",
      "Neville Mak\n",
      "2\n",
      "0\n",
      "-1\n",
      "8\n"
     ]
    }
   ],
   "source": [
    "print(my_name.upper())\n",
    "print(my_name.title())\n",
    "print(my_name.count('e'))\n",
    "print(my_name.count('nev'))\n",
    "print(my_name.find('nev'))\n",
    "print(my_name.find('Mak'))"
   ]
  },
  {
   "cell_type": "code",
   "execution_count": 12,
   "id": "50e9e2b7",
   "metadata": {},
   "outputs": [],
   "source": [
    "new_name = my_name.replace('Mak', 'Kaf')\n",
    "message = f'{new_name.upper()} am {my_age} years old, my older name was {my_name}'"
   ]
  },
  {
   "cell_type": "code",
   "execution_count": 13,
   "id": "1a28887d",
   "metadata": {},
   "outputs": [
    {
     "name": "stdout",
     "output_type": "stream",
     "text": [
      "my new name as been modified to Neville Kaf\n",
      "NEVILLE KAF am 64 years old, my older name was Neville Mak\n"
     ]
    }
   ],
   "source": [
    "print(f'my new name as been modified to {new_name}')\n",
    "print(message)"
   ]
  },
  {
   "cell_type": "code",
   "execution_count": 14,
   "id": "43fc8059",
   "metadata": {},
   "outputs": [
    {
     "name": "stdout",
     "output_type": "stream",
     "text": [
      "['__add__', '__class__', '__contains__', '__delattr__', '__dir__', '__doc__', '__eq__', '__format__', '__ge__', '__getattribute__', '__getitem__', '__getnewargs__', '__getstate__', '__gt__', '__hash__', '__init__', '__init_subclass__', '__iter__', '__le__', '__len__', '__lt__', '__mod__', '__mul__', '__ne__', '__new__', '__reduce__', '__reduce_ex__', '__repr__', '__rmod__', '__rmul__', '__setattr__', '__sizeof__', '__str__', '__subclasshook__', 'capitalize', 'casefold', 'center', 'count', 'encode', 'endswith', 'expandtabs', 'find', 'format', 'format_map', 'index', 'isalnum', 'isalpha', 'isascii', 'isdecimal', 'isdigit', 'isidentifier', 'islower', 'isnumeric', 'isprintable', 'isspace', 'istitle', 'isupper', 'join', 'ljust', 'lower', 'lstrip', 'maketrans', 'partition', 'removeprefix', 'removesuffix', 'replace', 'rfind', 'rindex', 'rjust', 'rpartition', 'rsplit', 'rstrip', 'split', 'splitlines', 'startswith', 'strip', 'swapcase', 'title', 'translate', 'upper', 'zfill']\n"
     ]
    }
   ],
   "source": [
    "print(dir(my_name))"
   ]
  },
  {
   "cell_type": "code",
   "execution_count": 18,
   "id": "70e84d1c",
   "metadata": {},
   "outputs": [
    {
     "name": "stdout",
     "output_type": "stream",
     "text": [
      "Help on method_descriptor:\n",
      "\n",
      "title(self, /) unbound builtins.str method\n",
      "    Return a version of the string where each word is titlecased.\n",
      "\n",
      "    More specifically, words start with uppercased characters and all remaining\n",
      "    cased characters have lower case.\n",
      "\n"
     ]
    }
   ],
   "source": [
    "help(str.title)"
   ]
  },
  {
   "cell_type": "markdown",
   "id": "710350c0",
   "metadata": {},
   "source": [
    "##### Workin with Numeric Data"
   ]
  },
  {
   "cell_type": "markdown",
   "id": "f49e9286",
   "metadata": {},
   "source": [
    "<i>basically, we have Intger and Floot data type</i>"
   ]
  },
  {
   "cell_type": "code",
   "execution_count": 21,
   "id": "936c03e7",
   "metadata": {},
   "outputs": [
    {
     "name": "stdout",
     "output_type": "stream",
     "text": [
      "1\n"
     ]
    }
   ],
   "source": [
    "num = 3//2\n",
    "print(num)"
   ]
  },
  {
   "cell_type": "code",
   "execution_count": 22,
   "id": "2dac098b",
   "metadata": {},
   "outputs": [],
   "source": [
    "num_1 = '100'\n",
    "num_2 = '200'"
   ]
  },
  {
   "cell_type": "code",
   "execution_count": 24,
   "id": "2543915a",
   "metadata": {},
   "outputs": [
    {
     "name": "stdout",
     "output_type": "stream",
     "text": [
      "300\n"
     ]
    }
   ],
   "source": [
    "print(int(num_1) + int(num_2))"
   ]
  },
  {
   "cell_type": "markdown",
   "id": "cd28e726",
   "metadata": {},
   "source": [
    "Working with list"
   ]
  },
  {
   "cell_type": "code",
   "execution_count": 26,
   "id": "51f28841",
   "metadata": {},
   "outputs": [],
   "source": [
    "courses =['History', 'Math', 'Geo']"
   ]
  },
  {
   "cell_type": "code",
   "execution_count": 29,
   "id": "bea2746f",
   "metadata": {},
   "outputs": [
    {
     "name": "stdout",
     "output_type": "stream",
     "text": [
      "Geo\n"
     ]
    }
   ],
   "source": [
    "print(courses[2])"
   ]
  },
  {
   "cell_type": "code",
   "execution_count": null,
   "id": "92219de9",
   "metadata": {},
   "outputs": [],
   "source": []
  }
 ],
 "metadata": {
  "kernelspec": {
   "display_name": "Python 3 (ipykernel)",
   "language": "python",
   "name": "python3"
  },
  "language_info": {
   "codemirror_mode": {
    "name": "ipython",
    "version": 3
   },
   "file_extension": ".py",
   "mimetype": "text/x-python",
   "name": "python",
   "nbconvert_exporter": "python",
   "pygments_lexer": "ipython3",
   "version": "3.12.7"
  }
 },
 "nbformat": 4,
 "nbformat_minor": 5
}
