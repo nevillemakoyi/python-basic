{
 "cells": [
  {
   "cell_type": "markdown",
   "id": "4034ecfc",
   "metadata": {},
   "source": [
    "### Introduction to variables in python"
   ]
  },
  {
   "cell_type": "code",
   "execution_count": 1,
   "id": "7b63dd2d",
   "metadata": {},
   "outputs": [],
   "source": [
    "my_name = 'Neville Mak'\n",
    "my_age = 64\n",
    "my_message = 'Hello Word'"
   ]
  },
  {
   "cell_type": "code",
   "execution_count": 2,
   "id": "4037b6c7",
   "metadata": {},
   "outputs": [
    {
     "name": "stdout",
     "output_type": "stream",
     "text": [
      "Hello, my name is Neville Mak, and I am 64 years old.\n",
      "10\n",
      "Nev\n"
     ]
    }
   ],
   "source": [
    "print(f'Hello, my name is {my_name}, and I am {my_age} years old.')\n",
    "print(len(my_message))\n",
    "print(my_name[0:3])"
   ]
  },
  {
   "cell_type": "code",
   "execution_count": 3,
   "id": "a929850d",
   "metadata": {},
   "outputs": [
    {
     "name": "stdout",
     "output_type": "stream",
     "text": [
      "NEVILLE MAK\n",
      "Neville Mak\n",
      "2\n",
      "0\n",
      "-1\n",
      "8\n"
     ]
    }
   ],
   "source": [
    "print(my_name.upper())\n",
    "print(my_name.title())\n",
    "print(my_name.count('e'))\n",
    "print(my_name.count('nev'))\n",
    "print(my_name.find('nev'))\n",
    "print(my_name.find('Mak'))"
   ]
  },
  {
   "cell_type": "code",
   "execution_count": 4,
   "id": "50e9e2b7",
   "metadata": {},
   "outputs": [],
   "source": [
    "new_name = my_name.replace('Mak', 'Kaf')\n",
    "message = f'{new_name.upper()} am {my_age} years old, my older name was {my_name}'"
   ]
  },
  {
   "cell_type": "code",
   "execution_count": 5,
   "id": "1a28887d",
   "metadata": {},
   "outputs": [
    {
     "name": "stdout",
     "output_type": "stream",
     "text": [
      "my new name as been modified to Neville Kaf\n",
      "NEVILLE KAF am 64 years old, my older name was Neville Mak\n"
     ]
    }
   ],
   "source": [
    "print(f'my new name as been modified to {new_name}')\n",
    "print(message)"
   ]
  },
  {
   "cell_type": "code",
   "execution_count": 6,
   "id": "43fc8059",
   "metadata": {},
   "outputs": [
    {
     "name": "stdout",
     "output_type": "stream",
     "text": [
      "['__add__', '__class__', '__contains__', '__delattr__', '__dir__', '__doc__', '__eq__', '__format__', '__ge__', '__getattribute__', '__getitem__', '__getnewargs__', '__getstate__', '__gt__', '__hash__', '__init__', '__init_subclass__', '__iter__', '__le__', '__len__', '__lt__', '__mod__', '__mul__', '__ne__', '__new__', '__reduce__', '__reduce_ex__', '__repr__', '__rmod__', '__rmul__', '__setattr__', '__sizeof__', '__str__', '__subclasshook__', 'capitalize', 'casefold', 'center', 'count', 'encode', 'endswith', 'expandtabs', 'find', 'format', 'format_map', 'index', 'isalnum', 'isalpha', 'isascii', 'isdecimal', 'isdigit', 'isidentifier', 'islower', 'isnumeric', 'isprintable', 'isspace', 'istitle', 'isupper', 'join', 'ljust', 'lower', 'lstrip', 'maketrans', 'partition', 'removeprefix', 'removesuffix', 'replace', 'rfind', 'rindex', 'rjust', 'rpartition', 'rsplit', 'rstrip', 'split', 'splitlines', 'startswith', 'strip', 'swapcase', 'title', 'translate', 'upper', 'zfill']\n"
     ]
    }
   ],
   "source": [
    "print(dir(my_name))"
   ]
  },
  {
   "cell_type": "code",
   "execution_count": 7,
   "id": "70e84d1c",
   "metadata": {},
   "outputs": [
    {
     "name": "stdout",
     "output_type": "stream",
     "text": [
      "Help on method_descriptor:\n",
      "\n",
      "title(self, /) unbound builtins.str method\n",
      "    Return a version of the string where each word is titlecased.\n",
      "\n",
      "    More specifically, words start with uppercased characters and all remaining\n",
      "    cased characters have lower case.\n",
      "\n"
     ]
    }
   ],
   "source": [
    "help(str.title)"
   ]
  },
  {
   "cell_type": "markdown",
   "id": "710350c0",
   "metadata": {},
   "source": [
    "##### Workin with Numeric Data"
   ]
  },
  {
   "cell_type": "markdown",
   "id": "f49e9286",
   "metadata": {},
   "source": [
    "<i>basically, we have Intger and Floot data type</i>"
   ]
  },
  {
   "cell_type": "code",
   "execution_count": 8,
   "id": "936c03e7",
   "metadata": {},
   "outputs": [
    {
     "name": "stdout",
     "output_type": "stream",
     "text": [
      "1\n"
     ]
    }
   ],
   "source": [
    "num = 3//2\n",
    "print(num)"
   ]
  },
  {
   "cell_type": "code",
   "execution_count": 9,
   "id": "2dac098b",
   "metadata": {},
   "outputs": [],
   "source": [
    "num_1 = '100'\n",
    "num_2 = '200'"
   ]
  },
  {
   "cell_type": "code",
   "execution_count": 10,
   "id": "2543915a",
   "metadata": {},
   "outputs": [
    {
     "name": "stdout",
     "output_type": "stream",
     "text": [
      "300\n"
     ]
    }
   ],
   "source": [
    "print(int(num_1) + int(num_2))"
   ]
  },
  {
   "cell_type": "markdown",
   "id": "cd28e726",
   "metadata": {},
   "source": [
    "Working with list"
   ]
  },
  {
   "cell_type": "code",
   "execution_count": 17,
   "id": "51f28841",
   "metadata": {},
   "outputs": [],
   "source": [
    "courses =['History', 'Math', 'Geo']\n",
    "courses.append('Physics')\n",
    "courses.insert(0, 'Algebra')\n",
    "courses.extend(['Science','English'])"
   ]
  },
  {
   "cell_type": "code",
   "execution_count": 18,
   "id": "bea2746f",
   "metadata": {},
   "outputs": [
    {
     "name": "stdout",
     "output_type": "stream",
     "text": [
      "['Algebra', 'History', 'Math', 'Geo', 'Physics', 'Science', 'English']\n"
     ]
    }
   ],
   "source": [
    "print(courses)"
   ]
  },
  {
   "cell_type": "code",
   "execution_count": 25,
   "id": "92219de9",
   "metadata": {},
   "outputs": [
    {
     "name": "stdout",
     "output_type": "stream",
     "text": [
      "['Algebra', 'English', 'Geo', 'Math', 'Physics', 'Science']\n"
     ]
    }
   ],
   "source": [
    "courses.sort()\n",
    "print(courses)"
   ]
  },
  {
   "cell_type": "code",
   "execution_count": 29,
   "id": "2100cf2a",
   "metadata": {},
   "outputs": [
    {
     "name": "stdout",
     "output_type": "stream",
     "text": [
      "ENGLISH\n",
      "MATH\n",
      "PHYSICS\n"
     ]
    }
   ],
   "source": [
    "for c in courses:\n",
    "    if 'e' in c:\n",
    "        continue\n",
    "    print(c.upper())"
   ]
  },
  {
   "cell_type": "code",
   "execution_count": 34,
   "id": "53206fae",
   "metadata": {},
   "outputs": [
    {
     "name": "stdout",
     "output_type": "stream",
     "text": [
      "the course Algebra is loated at index 0\n",
      "the course English is loated at index 1\n",
      "the course Geo is loated at index 2\n",
      "the course Math is loated at index 3\n",
      "the course Physics is loated at index 4\n",
      "the course Science is loated at index 5\n"
     ]
    }
   ],
   "source": [
    "for i,c in enumerate(courses):\n",
    "    print(f'the course {c} is loated at index {i}')"
   ]
  },
  {
   "cell_type": "markdown",
   "id": "8550d018",
   "metadata": {},
   "source": [
    "Working with Dictionaries"
   ]
  },
  {
   "cell_type": "code",
   "execution_count": 37,
   "id": "37a91c41",
   "metadata": {},
   "outputs": [],
   "source": [
    "students = {\n",
    "    'name': 'Neville',\n",
    "    'age': 64,\n",
    "    'courses': ['History', 'Math', 'Geo']\n",
    "}"
   ]
  },
  {
   "cell_type": "code",
   "execution_count": 45,
   "id": "69efe831",
   "metadata": {},
   "outputs": [
    {
     "name": "stdout",
     "output_type": "stream",
     "text": [
      "Neville\n",
      "Neville\n",
      "Key not available\n"
     ]
    }
   ],
   "source": [
    "print(students['name'])\n",
    "print(students.get('name'))\n",
    "print(students.get('phone', 'Key not available'))#whant to do if the key is not available\n",
    "\n"
   ]
  },
  {
   "cell_type": "code",
   "execution_count": 46,
   "id": "57762785",
   "metadata": {},
   "outputs": [
    {
     "name": "stdout",
     "output_type": "stream",
     "text": [
      "name Neville\n",
      "age 64\n",
      "courses ['History', 'Math', 'Geo']\n",
      "dict_keys(['name', 'age', 'courses'])\n"
     ]
    }
   ],
   "source": [
    "for keys, values in students.items():\n",
    "    print(keys, values)\n",
    "print(students.keys())"
   ]
  },
  {
   "cell_type": "code",
   "execution_count": null,
   "id": "11f071b4",
   "metadata": {},
   "outputs": [],
   "source": []
  }
 ],
 "metadata": {
  "kernelspec": {
   "display_name": "Python 3 (ipykernel)",
   "language": "python",
   "name": "python3"
  },
  "language_info": {
   "codemirror_mode": {
    "name": "ipython",
    "version": 3
   },
   "file_extension": ".py",
   "mimetype": "text/x-python",
   "name": "python",
   "nbconvert_exporter": "python",
   "pygments_lexer": "ipython3",
   "version": "3.12.7"
  }
 },
 "nbformat": 4,
 "nbformat_minor": 5
}
