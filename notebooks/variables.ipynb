{
 "cells": [
  {
   "cell_type": "markdown",
   "id": "4034ecfc",
   "metadata": {},
   "source": [
    "### Introduction to variables in python"
   ]
  },
  {
   "cell_type": "code",
   "execution_count": 3,
   "id": "7b63dd2d",
   "metadata": {},
   "outputs": [],
   "source": [
    "my_name = 'Neville'\n",
    "my_age = 64\n",
    "my_message = 'Hello Word'"
   ]
  },
  {
   "cell_type": "code",
   "execution_count": 7,
   "id": "4037b6c7",
   "metadata": {},
   "outputs": [
    {
     "name": "stdout",
     "output_type": "stream",
     "text": [
      "Hello, my name is Neville, and I am 64 years old.\n"
     ]
    }
   ],
   "source": [
    "print(f'Hello, my name is {my_name}, and I am {my_age} years old.')"
   ]
  },
  {
   "cell_type": "code",
   "execution_count": null,
   "id": "a929850d",
   "metadata": {},
   "outputs": [],
   "source": []
  }
 ],
 "metadata": {
  "kernelspec": {
   "display_name": "Python 3 (ipykernel)",
   "language": "python",
   "name": "python3"
  },
  "language_info": {
   "codemirror_mode": {
    "name": "ipython",
    "version": 3
   },
   "file_extension": ".py",
   "mimetype": "text/x-python",
   "name": "python",
   "nbconvert_exporter": "python",
   "pygments_lexer": "ipython3",
   "version": "3.12.7"
  }
 },
 "nbformat": 4,
 "nbformat_minor": 5
}
