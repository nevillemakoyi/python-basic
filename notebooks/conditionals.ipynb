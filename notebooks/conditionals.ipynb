{
 "cells": [
  {
   "cell_type": "markdown",
   "id": "fcf8e8c7",
   "metadata": {},
   "source": [
    "### Conditional Statement"
   ]
  },
  {
   "cell_type": "code",
   "execution_count": 1,
   "id": "aa595edc",
   "metadata": {},
   "outputs": [
    {
     "name": "stdout",
     "output_type": "stream",
     "text": [
      "This is a test script to check the Python environment.\n"
     ]
    }
   ],
   "source": [
    "if True:\n",
    "    print(\"This is a test script to check the Python environment.\")\n"
   ]
  },
  {
   "cell_type": "code",
   "execution_count": 2,
   "id": "b6a59443",
   "metadata": {},
   "outputs": [
    {
     "name": "stdout",
     "output_type": "stream",
     "text": [
      "Admin Page\n"
     ]
    }
   ],
   "source": [
    "user = 'admin'\n",
    "logged_in = True\n",
    "\n",
    "if user == 'admin' and logged_in:\n",
    "    print('Admin Page')\n",
    "else:\n",
    "    print('credentials not correc')"
   ]
  },
  {
   "cell_type": "markdown",
   "id": "d035754d",
   "metadata": {},
   "source": [
    "### loops and iterators"
   ]
  },
  {
   "cell_type": "code",
   "execution_count": 3,
   "id": "4064dceb",
   "metadata": {},
   "outputs": [
    {
     "name": "stdout",
     "output_type": "stream",
     "text": [
      "1\n",
      "3\n",
      "5\n",
      "7\n",
      "9\n",
      "13\n",
      "15\n",
      "17\n",
      "19\n"
     ]
    }
   ],
   "source": [
    "num = [ 1, 3, 5, 7, 9, 11, 13, 15, 17, 19 ]\n",
    "for number in num :\n",
    "    if number == 11:\n",
    "        continue\n",
    "    print(number)"
   ]
  },
  {
   "cell_type": "code",
   "execution_count": 5,
   "id": "7040add6",
   "metadata": {},
   "outputs": [],
   "source": [
    "import pandas as pd\n",
    "import numpy as np\n",
    "import matplotlib.pyplot as plt"
   ]
  },
  {
   "cell_type": "code",
   "execution_count": null,
   "id": "5d4ddbac",
   "metadata": {},
   "outputs": [],
   "source": []
  }
 ],
 "metadata": {
  "kernelspec": {
   "display_name": "Python [conda env:base] *",
   "language": "python",
   "name": "conda-base-py"
  },
  "language_info": {
   "codemirror_mode": {
    "name": "ipython",
    "version": 3
   },
   "file_extension": ".py",
   "mimetype": "text/x-python",
   "name": "python",
   "nbconvert_exporter": "python",
   "pygments_lexer": "ipython3",
   "version": "3.12.7"
  }
 },
 "nbformat": 4,
 "nbformat_minor": 5
}
